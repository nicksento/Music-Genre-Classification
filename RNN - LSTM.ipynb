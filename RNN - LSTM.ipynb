{
 "cells": [
  {
   "cell_type": "markdown",
   "metadata": {},
   "source": [
    "# Import Libraries"
   ]
  },
  {
   "cell_type": "code",
   "execution_count": 30,
   "metadata": {},
   "outputs": [],
   "source": [
    "import json\n",
    "import numpy as np\n",
    "from sklearn.model_selection import train_test_split\n",
    "import tensorflow.keras as keras\n",
    "import matplotlib.pyplot as plt"
   ]
  },
  {
   "cell_type": "code",
   "execution_count": 31,
   "metadata": {},
   "outputs": [],
   "source": [
    "DATA_PATH = \"Data/data.json\""
   ]
  },
  {
   "cell_type": "code",
   "execution_count": 32,
   "metadata": {},
   "outputs": [],
   "source": [
    "def load_data(data_path):\n",
    "    \n",
    "    with open(data_path, \"r\") as fp:\n",
    "        data = json.load(fp)\n",
    "    \n",
    "    X = np.array(data[\"mfcc\"])\n",
    "    y = np.array(data[\"labels\"])\n",
    "    return X,y "
   ]
  },
  {
   "cell_type": "code",
   "execution_count": 33,
   "metadata": {},
   "outputs": [],
   "source": [
    "def plot_history(history):\n",
    "    \n",
    "    fig, axs = plt.subplots(2, figsize=(15,10))\n",
    "    \n",
    "    # create accuracy subplot\n",
    "    axs[0].plot(history.history[\"accuracy\"], label=\"train accuracy\")\n",
    "    axs[0].plot(history.history[\"val_accuracy\"], label=\"test accuracy\")\n",
    "    axs[0].set_ylabel(\"Accuracy\")\n",
    "    axs[0].legend(loc=\"lower right\")\n",
    "    axs[0].set_title(\"Accuracy eval\")\n",
    "                  \n",
    "    # create error subplot\n",
    "    axs[1].plot(history.history[\"loss\"], label=\"train error\")\n",
    "    axs[1].plot(history.history[\"val_loss\"], label=\"test error\")\n",
    "    axs[1].set_ylabel(\"Error\")\n",
    "    axs[1].set_xlabel(\"Epoch\")\n",
    "    axs[1].legend(loc=\"upper right\")\n",
    "    axs[1].set_title(\"Error eval\")\n",
    "    \n",
    "    plt.show()\n",
    "    "
   ]
  },
  {
   "cell_type": "code",
   "execution_count": 34,
   "metadata": {},
   "outputs": [],
   "source": [
    "def prepare_datasets(test_size, validation_size):\n",
    "    \n",
    "    # load data\n",
    "    X, y = load_data(DATA_PATH)\n",
    "    \n",
    "    # create trai/test split\n",
    "    X_train, X_test, y_train, y_test = train_test_split(X, y, test_size=test_size)\n",
    "    \n",
    "    # create train/validation split\n",
    "    X_train, X_validation, y_train, y_validation = train_test_split(X_train, y_train, test_size=validation_size)\n",
    "    \n",
    "    return X_train, X_validation, X_test, y_train, y_validation, y_test"
   ]
  },
  {
   "cell_type": "code",
   "execution_count": 35,
   "metadata": {},
   "outputs": [],
   "source": [
    "def build_model(input_shape):\n",
    "    \"\"\"Generates RNN-LSTM model\"\"\"\n",
    "    \n",
    "    # create model\n",
    "    model = keras.Sequential()\n",
    "    \n",
    "    # 2 LSTM layers\n",
    "    model.add(keras.layers.LSTM(64, input_shape=input_shape, return_sequences=True))\n",
    "    model.add(keras.layers.LSTM(64))\n",
    "    \n",
    "    # dense layer\n",
    "    model.add(keras.layers.Dense(64, activation='relu'))\n",
    "    model.add(keras.layers.Dropout(0.3))\n",
    "    \n",
    "    # output layer\n",
    "    model.add(keras.layers.Dense(10, activation='softmax'))\n",
    "    \n",
    "    return model"
   ]
  },
  {
   "cell_type": "code",
   "execution_count": 36,
   "metadata": {},
   "outputs": [],
   "source": [
    "X_train, X_validation, X_test, y_train, y_validation, y_test = prepare_datasets(0.25, 0.2)"
   ]
  },
  {
   "cell_type": "code",
   "execution_count": 37,
   "metadata": {},
   "outputs": [],
   "source": [
    "input_shape = (X_train.shape[1], X_train.shape[2]) # 130m 13\n",
    "model = build_model(input_shape)"
   ]
  },
  {
   "cell_type": "code",
   "execution_count": 38,
   "metadata": {},
   "outputs": [
    {
     "name": "stdout",
     "output_type": "stream",
     "text": [
      "Model: \"sequential_5\"\n",
      "_________________________________________________________________\n",
      "Layer (type)                 Output Shape              Param #   \n",
      "=================================================================\n",
      "lstm_2 (LSTM)                (None, 130, 64)           19968     \n",
      "_________________________________________________________________\n",
      "lstm_3 (LSTM)                (None, 64)                33024     \n",
      "_________________________________________________________________\n",
      "dense_4 (Dense)              (None, 64)                4160      \n",
      "_________________________________________________________________\n",
      "dropout_2 (Dropout)          (None, 64)                0         \n",
      "_________________________________________________________________\n",
      "dense_5 (Dense)              (None, 10)                650       \n",
      "=================================================================\n",
      "Total params: 57,802\n",
      "Trainable params: 57,802\n",
      "Non-trainable params: 0\n",
      "_________________________________________________________________\n"
     ]
    }
   ],
   "source": [
    "optimizer = keras.optimizers.Adam(learning_rate=0.0001)\n",
    "model.compile(optimizer=optimizer, \n",
    "             loss=\"sparse_categorical_crossentropy\",\n",
    "             metrics=['accuracy'])\n",
    "model.summary()"
   ]
  },
  {
   "cell_type": "code",
   "execution_count": 39,
   "metadata": {},
   "outputs": [
    {
     "name": "stdout",
     "output_type": "stream",
     "text": [
      "Epoch 1/30\n",
      "188/188 [==============================] - 27s 141ms/step - loss: 2.2110 - accuracy: 0.1940 - val_loss: 2.0854 - val_accuracy: 0.3017\n",
      "Epoch 2/30\n",
      "188/188 [==============================] - 23s 124ms/step - loss: 1.9887 - accuracy: 0.3138 - val_loss: 1.8549 - val_accuracy: 0.3738\n",
      "Epoch 3/30\n",
      "188/188 [==============================] - 28s 149ms/step - loss: 1.7814 - accuracy: 0.3747 - val_loss: 1.6829 - val_accuracy: 0.4112\n",
      "Epoch 4/30\n",
      "188/188 [==============================] - 27s 143ms/step - loss: 1.6557 - accuracy: 0.4109 - val_loss: 1.5942 - val_accuracy: 0.4499\n",
      "Epoch 5/30\n",
      "188/188 [==============================] - 25s 135ms/step - loss: 1.5577 - accuracy: 0.4452 - val_loss: 1.5222 - val_accuracy: 0.4780\n",
      "Epoch 6/30\n",
      "188/188 [==============================] - 30s 159ms/step - loss: 1.4881 - accuracy: 0.4737 - val_loss: 1.4745 - val_accuracy: 0.4920\n",
      "Epoch 7/30\n",
      "188/188 [==============================] - 44s 232ms/step - loss: 1.4409 - accuracy: 0.4937 - val_loss: 1.4331 - val_accuracy: 0.5060\n",
      "Epoch 8/30\n",
      "188/188 [==============================] - 35s 185ms/step - loss: 1.3825 - accuracy: 0.5176 - val_loss: 1.4061 - val_accuracy: 0.5087\n",
      "Epoch 9/30\n",
      "188/188 [==============================] - 36s 192ms/step - loss: 1.3586 - accuracy: 0.5214 - val_loss: 1.3937 - val_accuracy: 0.5107\n",
      "Epoch 10/30\n",
      "188/188 [==============================] - 32s 171ms/step - loss: 1.3186 - accuracy: 0.5365 - val_loss: 1.3609 - val_accuracy: 0.5214\n",
      "Epoch 11/30\n",
      "188/188 [==============================] - 32s 168ms/step - loss: 1.2801 - accuracy: 0.5512 - val_loss: 1.3417 - val_accuracy: 0.5227\n",
      "Epoch 12/30\n",
      "188/188 [==============================] - 35s 185ms/step - loss: 1.2585 - accuracy: 0.5588 - val_loss: 1.3324 - val_accuracy: 0.5260\n",
      "Epoch 13/30\n",
      "188/188 [==============================] - 37s 198ms/step - loss: 1.2195 - accuracy: 0.5795 - val_loss: 1.3166 - val_accuracy: 0.5354\n",
      "Epoch 14/30\n",
      "188/188 [==============================] - 37s 194ms/step - loss: 1.2004 - accuracy: 0.5901 - val_loss: 1.2954 - val_accuracy: 0.5401\n",
      "Epoch 15/30\n",
      "188/188 [==============================] - 38s 200ms/step - loss: 1.1787 - accuracy: 0.5909 - val_loss: 1.2808 - val_accuracy: 0.5461\n",
      "Epoch 16/30\n",
      "188/188 [==============================] - 43s 229ms/step - loss: 1.1452 - accuracy: 0.6149 - val_loss: 1.2726 - val_accuracy: 0.5534\n",
      "Epoch 17/30\n",
      "188/188 [==============================] - 36s 190ms/step - loss: 1.1275 - accuracy: 0.6114 - val_loss: 1.2450 - val_accuracy: 0.5634\n",
      "Epoch 18/30\n",
      "188/188 [==============================] - 29s 153ms/step - loss: 1.1101 - accuracy: 0.6124 - val_loss: 1.2415 - val_accuracy: 0.5628\n",
      "Epoch 19/30\n",
      "188/188 [==============================] - 33s 174ms/step - loss: 1.0916 - accuracy: 0.6264 - val_loss: 1.2155 - val_accuracy: 0.5754\n",
      "Epoch 20/30\n",
      "188/188 [==============================] - 36s 190ms/step - loss: 1.0670 - accuracy: 0.6406 - val_loss: 1.2150 - val_accuracy: 0.5834\n",
      "Epoch 21/30\n",
      "188/188 [==============================] - 31s 167ms/step - loss: 1.0356 - accuracy: 0.6463 - val_loss: 1.2424 - val_accuracy: 0.5668\n",
      "Epoch 22/30\n",
      "188/188 [==============================] - 38s 203ms/step - loss: 1.0502 - accuracy: 0.6466 - val_loss: 1.2063 - val_accuracy: 0.5828\n",
      "Epoch 23/30\n",
      "188/188 [==============================] - 28s 150ms/step - loss: 1.0051 - accuracy: 0.6615 - val_loss: 1.1855 - val_accuracy: 0.5921\n",
      "Epoch 24/30\n",
      "188/188 [==============================] - 27s 142ms/step - loss: 0.9905 - accuracy: 0.6615 - val_loss: 1.1952 - val_accuracy: 0.5935\n",
      "Epoch 25/30\n",
      "188/188 [==============================] - 33s 176ms/step - loss: 0.9697 - accuracy: 0.6753 - val_loss: 1.1808 - val_accuracy: 0.6035\n",
      "Epoch 26/30\n",
      "188/188 [==============================] - 29s 152ms/step - loss: 0.9506 - accuracy: 0.6800 - val_loss: 1.1945 - val_accuracy: 0.6015\n",
      "Epoch 27/30\n",
      "188/188 [==============================] - 37s 195ms/step - loss: 0.9447 - accuracy: 0.6809 - val_loss: 1.1924 - val_accuracy: 0.5975\n",
      "Epoch 28/30\n",
      "188/188 [==============================] - 29s 154ms/step - loss: 1.0003 - accuracy: 0.6635 - val_loss: 1.1803 - val_accuracy: 0.5975\n",
      "Epoch 29/30\n",
      "188/188 [==============================] - 45s 238ms/step - loss: 0.9395 - accuracy: 0.6827 - val_loss: 1.1968 - val_accuracy: 0.5995\n",
      "Epoch 30/30\n",
      "188/188 [==============================] - 38s 200ms/step - loss: 0.9140 - accuracy: 0.6960 - val_loss: 1.1873 - val_accuracy: 0.5968\n"
     ]
    }
   ],
   "source": [
    "history = model.fit(X_train, y_train, validation_data=(X_validation, y_validation), batch_size=32, epochs=30)"
   ]
  },
  {
   "cell_type": "code",
   "execution_count": 40,
   "metadata": {},
   "outputs": [
    {
     "name": "stdout",
     "output_type": "stream",
     "text": [
      "WARNING:tensorflow:From /home/sento/Documents/Workstation/Music Genre Classification/lib/python3.8/site-packages/tensorflow/python/training/tracking/tracking.py:111: Model.state_updates (from tensorflow.python.keras.engine.training) is deprecated and will be removed in a future version.\n",
      "Instructions for updating:\n",
      "This property should not be used in TensorFlow 2.0, as updates are applied automatically.\n",
      "WARNING:tensorflow:From /home/sento/Documents/Workstation/Music Genre Classification/lib/python3.8/site-packages/tensorflow/python/training/tracking/tracking.py:111: Layer.updates (from tensorflow.python.keras.engine.base_layer) is deprecated and will be removed in a future version.\n",
      "Instructions for updating:\n",
      "This property should not be used in TensorFlow 2.0, as updates are applied automatically.\n",
      "INFO:tensorflow:Assets written to: RNN_LTSM_model/assets\n"
     ]
    }
   ],
   "source": [
    "model.save('RNN_LTSM_model')"
   ]
  },
  {
   "cell_type": "code",
   "execution_count": 41,
   "metadata": {},
   "outputs": [
    {
     "data": {
      "image/png": "[encoded data removed]",
      "text/plain": [
       "<Figure size 1080x720 with 2 Axes>"
      ]
     },
     "metadata": {
      "needs_background": "light"
     },
     "output_type": "display_data"
    }
   ],
   "source": [
    "plot_history(history)"
   ]
  },
  {
   "cell_type": "code",
   "execution_count": 42,
   "metadata": {
    "scrolled": false
   },
   "outputs": [
    {
     "name": "stdout",
     "output_type": "stream",
     "text": [
      "79/79 - 2s - loss: 1.0702 - accuracy: 0.6239\n",
      "\n",
      "Test accuracy: 0.6239487528800964\n"
     ]
    }
   ],
   "source": [
    "test_loss, test_acc = model.evaluate(X_test, y_test, verbose=2)\n",
    "print('\\nTest accuracy:', test_acc)"
   ]
  }
 ],
 "metadata": {
  "kernelspec": {
   "display_name": "musicgenrevenv",
   "language": "python",
   "name": "musicgenrevenv"
  },
  "language_info": {
   "codemirror_mode": {
    "name": "ipython",
    "version": 3
   },
   "file_extension": ".py",
   "mimetype": "text/x-python",
   "name": "python",
   "nbconvert_exporter": "python",
   "pygments_lexer": "ipython3",
   "version": "3.8.5"
  }
 },
 "nbformat": 4,
 "nbformat_minor": 4
}
